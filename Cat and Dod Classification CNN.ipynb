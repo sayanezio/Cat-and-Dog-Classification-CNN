{
 "cells": [
  {
   "cell_type": "code",
   "execution_count": 1,
   "id": "2055b685",
   "metadata": {
    "scrolled": true
   },
   "outputs": [],
   "source": [
    "# Importing Libraries\n",
    "\n",
    "import os\n",
    "import pandas as pd\n",
    "import numpy as np\n",
    "import tensorflow as tf\n",
    "from tensorflow.keras.preprocessing.image import ImageDataGenerator"
   ]
  },
  {
   "cell_type": "markdown",
   "id": "95dff0c7",
   "metadata": {},
   "source": [
    "# Setting up directory for Training and testing dataset"
   ]
  },
  {
   "cell_type": "code",
   "execution_count": 17,
   "id": "71f7058a",
   "metadata": {},
   "outputs": [],
   "source": [
    "train_dir = \"F:\\\\Machine Learning-A-Z-Codes-Datasets\\\\Machine Learning A-Z (Codes and Datasets)\\\\Part 8 - Deep Learning\\\\Section 40 - Convolutional Neural Networks (CNN)\\\\Python\\\\dataset\\\\dataset\\\\training_set\\\\\""
   ]
  },
  {
   "cell_type": "code",
   "execution_count": 22,
   "id": "f19c026c",
   "metadata": {},
   "outputs": [],
   "source": [
    "test_dir = \"F:\\\\Machine Learning-A-Z-Codes-Datasets\\\\Machine Learning A-Z (Codes and Datasets)\\\\Part 8 - Deep Learning\\\\Section 40 - Convolutional Neural Networks (CNN)\\\\Python\\\\dataset\\\\dataset\\\\test_set\\\\\""
   ]
  },
  {
   "cell_type": "markdown",
   "id": "e424b710",
   "metadata": {},
   "source": [
    "# Data Preprocessing"
   ]
  },
  {
   "cell_type": "markdown",
   "id": "5f9c0e25",
   "metadata": {},
   "source": [
    "Preprocessing the training dataset"
   ]
  },
  {
   "cell_type": "markdown",
   "id": "18d45db5",
   "metadata": {},
   "source": [
    "Image Augmentation"
   ]
  },
  {
   "cell_type": "code",
   "execution_count": 34,
   "id": "d72e84a7",
   "metadata": {},
   "outputs": [],
   "source": [
    "Image_size = (128,128) # Defining the image size"
   ]
  },
  {
   "cell_type": "code",
   "execution_count": 35,
   "id": "02f0f5a0",
   "metadata": {},
   "outputs": [
    {
     "name": "stdout",
     "output_type": "stream",
     "text": [
      "Found 8000 images belonging to 2 classes.\n"
     ]
    }
   ],
   "source": [
    "train_datagen = ImageDataGenerator(\n",
    "        rescale=1./255,\n",
    "        shear_range=0.2,\n",
    "        zoom_range=0.2,\n",
    "        horizontal_flip=True)\n",
    "\n",
    "train_generator = train_datagen.flow_from_directory(\n",
    "        train_dir,\n",
    "        Image_size,\n",
    "        batch_size=32,\n",
    "        class_mode='binary')\n",
    "\n"
   ]
  },
  {
   "cell_type": "markdown",
   "id": "743f7098",
   "metadata": {},
   "source": [
    "Preprocessing of Test set"
   ]
  },
  {
   "cell_type": "code",
   "execution_count": 36,
   "id": "49896a1b",
   "metadata": {
    "scrolled": true
   },
   "outputs": [
    {
     "name": "stdout",
     "output_type": "stream",
     "text": [
      "Found 2000 images belonging to 2 classes.\n"
     ]
    }
   ],
   "source": [
    "test_datagen = ImageDataGenerator(rescale=1./255)\n",
    "\n",
    "test_generator = test_datagen.flow_from_directory(\n",
    "        test_dir,\n",
    "        Image_size,\n",
    "        batch_size=32,\n",
    "        class_mode='binary')"
   ]
  },
  {
   "cell_type": "markdown",
   "id": "fbb87457",
   "metadata": {},
   "source": [
    "# Building the CNN Model"
   ]
  },
  {
   "cell_type": "markdown",
   "id": "1eaa6f2a",
   "metadata": {},
   "source": [
    "Initializing the CNN"
   ]
  },
  {
   "cell_type": "code",
   "execution_count": 37,
   "id": "21700d52",
   "metadata": {},
   "outputs": [],
   "source": [
    "cnn = tf.keras.models.Sequential()"
   ]
  },
  {
   "cell_type": "markdown",
   "id": "37223417",
   "metadata": {},
   "source": [
    "# Adding first CNN layer"
   ]
  },
  {
   "cell_type": "markdown",
   "id": "91988fc3",
   "metadata": {},
   "source": [
    "Step 1 : Convolution"
   ]
  },
  {
   "cell_type": "code",
   "execution_count": 38,
   "id": "a38ae72c",
   "metadata": {
    "scrolled": true
   },
   "outputs": [
    {
     "name": "stderr",
     "output_type": "stream",
     "text": [
      "C:\\Users\\sayanezio\\anaconda3\\lib\\site-packages\\keras\\src\\layers\\convolutional\\base_conv.py:99: UserWarning: Do not pass an `input_shape`/`input_dim` argument to a layer. When using Sequential models, prefer using an `Input(shape)` object as the first layer in the model instead.\n",
      "  super().__init__(\n"
     ]
    }
   ],
   "source": [
    "cnn.add(tf.keras.layers.Conv2D(filters=32, kernel_size=3, activation='relu', input_shape = [128,128,3]))"
   ]
  },
  {
   "cell_type": "markdown",
   "id": "8ce58e28",
   "metadata": {},
   "source": [
    "Step 2 : Pooling"
   ]
  },
  {
   "cell_type": "code",
   "execution_count": 39,
   "id": "a3dcb6cc",
   "metadata": {},
   "outputs": [],
   "source": [
    "cnn.add(tf.keras.layers.MaxPooling2D(pool_size=2, strides=2))"
   ]
  },
  {
   "cell_type": "markdown",
   "id": "ce13afa3",
   "metadata": {},
   "source": [
    "# Adding second CNN layer"
   ]
  },
  {
   "cell_type": "code",
   "execution_count": 40,
   "id": "f5ab93b8",
   "metadata": {},
   "outputs": [],
   "source": [
    "cnn.add(tf.keras.layers.Conv2D(filters=32, kernel_size=3, activation='relu'))\n",
    "cnn.add(tf.keras.layers.MaxPooling2D(pool_size=2, strides=2))"
   ]
  },
  {
   "cell_type": "markdown",
   "id": "4b91e4a4",
   "metadata": {},
   "source": [
    "Step 3 : Flattening"
   ]
  },
  {
   "cell_type": "code",
   "execution_count": 41,
   "id": "64d23f54",
   "metadata": {},
   "outputs": [],
   "source": [
    "cnn.add(tf.keras.layers.Flatten())"
   ]
  },
  {
   "cell_type": "markdown",
   "id": "d22af12e",
   "metadata": {},
   "source": [
    "Step 4 : Full Connection"
   ]
  },
  {
   "cell_type": "code",
   "execution_count": 42,
   "id": "b32126d9",
   "metadata": {},
   "outputs": [],
   "source": [
    "cnn.add(tf.keras.layers.Dense(units = 128, activation='relu'))"
   ]
  },
  {
   "cell_type": "markdown",
   "id": "ce4acdf6",
   "metadata": {},
   "source": [
    "Step 5: Output Layer"
   ]
  },
  {
   "cell_type": "code",
   "execution_count": 43,
   "id": "7ac2cbc1",
   "metadata": {},
   "outputs": [],
   "source": [
    "cnn.add(tf.keras.layers.Dense(units = 1, activation='sigmoid'))"
   ]
  },
  {
   "cell_type": "markdown",
   "id": "a1450c9a",
   "metadata": {},
   "source": [
    "# Training The CNN Model"
   ]
  },
  {
   "cell_type": "markdown",
   "id": "a262ea0b",
   "metadata": {},
   "source": [
    "Compiling the CNN"
   ]
  },
  {
   "cell_type": "code",
   "execution_count": 44,
   "id": "bb018e5e",
   "metadata": {},
   "outputs": [],
   "source": [
    "cnn.compile(optimizer='adam', loss = 'binary_crossentropy', metrics=['accuracy'])"
   ]
  },
  {
   "cell_type": "markdown",
   "id": "dd2967b7",
   "metadata": {},
   "source": [
    "Training the model on training dataset"
   ]
  },
  {
   "cell_type": "code",
   "execution_count": 45,
   "id": "cdcee897",
   "metadata": {},
   "outputs": [
    {
     "name": "stdout",
     "output_type": "stream",
     "text": [
      "Epoch 1/100\n"
     ]
    },
    {
     "name": "stderr",
     "output_type": "stream",
     "text": [
      "C:\\Users\\sayanezio\\anaconda3\\lib\\site-packages\\keras\\src\\trainers\\data_adapters\\py_dataset_adapter.py:120: UserWarning: Your `PyDataset` class should call `super().__init__(**kwargs)` in its constructor. `**kwargs` can include `workers`, `use_multiprocessing`, `max_queue_size`. Do not pass these arguments to `fit()`, as they will be ignored.\n",
      "  self._warn_if_super_not_called()\n"
     ]
    },
    {
     "name": "stdout",
     "output_type": "stream",
     "text": [
      "\u001b[1m250/250\u001b[0m \u001b[32m━━━━━━━━━━━━━━━━━━━━\u001b[0m\u001b[37m\u001b[0m \u001b[1m384s\u001b[0m 1s/step - accuracy: 0.5558 - loss: 0.7552 - val_accuracy: 0.5985 - val_loss: 0.6659\n",
      "Epoch 2/100\n",
      "\u001b[1m250/250\u001b[0m \u001b[32m━━━━━━━━━━━━━━━━━━━━\u001b[0m\u001b[37m\u001b[0m \u001b[1m130s\u001b[0m 515ms/step - accuracy: 0.6247 - loss: 0.6544 - val_accuracy: 0.6640 - val_loss: 0.6149\n",
      "Epoch 3/100\n",
      "\u001b[1m250/250\u001b[0m \u001b[32m━━━━━━━━━━━━━━━━━━━━\u001b[0m\u001b[37m\u001b[0m \u001b[1m131s\u001b[0m 514ms/step - accuracy: 0.6867 - loss: 0.6015 - val_accuracy: 0.7090 - val_loss: 0.5845\n",
      "Epoch 4/100\n",
      "\u001b[1m250/250\u001b[0m \u001b[32m━━━━━━━━━━━━━━━━━━━━\u001b[0m\u001b[37m\u001b[0m \u001b[1m129s\u001b[0m 505ms/step - accuracy: 0.7045 - loss: 0.5724 - val_accuracy: 0.7025 - val_loss: 0.5828\n",
      "Epoch 5/100\n",
      "\u001b[1m250/250\u001b[0m \u001b[32m━━━━━━━━━━━━━━━━━━━━\u001b[0m\u001b[37m\u001b[0m \u001b[1m128s\u001b[0m 502ms/step - accuracy: 0.7175 - loss: 0.5532 - val_accuracy: 0.7315 - val_loss: 0.5552\n",
      "Epoch 6/100\n",
      "\u001b[1m250/250\u001b[0m \u001b[32m━━━━━━━━━━━━━━━━━━━━\u001b[0m\u001b[37m\u001b[0m \u001b[1m127s\u001b[0m 500ms/step - accuracy: 0.7419 - loss: 0.5117 - val_accuracy: 0.7520 - val_loss: 0.5164\n",
      "Epoch 7/100\n",
      "\u001b[1m250/250\u001b[0m \u001b[32m━━━━━━━━━━━━━━━━━━━━\u001b[0m\u001b[37m\u001b[0m \u001b[1m127s\u001b[0m 499ms/step - accuracy: 0.7588 - loss: 0.4832 - val_accuracy: 0.7590 - val_loss: 0.5303\n",
      "Epoch 8/100\n",
      "\u001b[1m250/250\u001b[0m \u001b[32m━━━━━━━━━━━━━━━━━━━━\u001b[0m\u001b[37m\u001b[0m \u001b[1m128s\u001b[0m 505ms/step - accuracy: 0.7792 - loss: 0.4677 - val_accuracy: 0.7620 - val_loss: 0.5156\n",
      "Epoch 9/100\n",
      "\u001b[1m250/250\u001b[0m \u001b[32m━━━━━━━━━━━━━━━━━━━━\u001b[0m\u001b[37m\u001b[0m \u001b[1m131s\u001b[0m 514ms/step - accuracy: 0.7996 - loss: 0.4322 - val_accuracy: 0.7660 - val_loss: 0.5030\n",
      "Epoch 10/100\n",
      "\u001b[1m250/250\u001b[0m \u001b[32m━━━━━━━━━━━━━━━━━━━━\u001b[0m\u001b[37m\u001b[0m \u001b[1m155s\u001b[0m 609ms/step - accuracy: 0.7964 - loss: 0.4304 - val_accuracy: 0.7700 - val_loss: 0.5028\n",
      "Epoch 11/100\n",
      "\u001b[1m250/250\u001b[0m \u001b[32m━━━━━━━━━━━━━━━━━━━━\u001b[0m\u001b[37m\u001b[0m \u001b[1m129s\u001b[0m 507ms/step - accuracy: 0.8281 - loss: 0.3817 - val_accuracy: 0.7800 - val_loss: 0.4868\n",
      "Epoch 12/100\n",
      "\u001b[1m250/250\u001b[0m \u001b[32m━━━━━━━━━━━━━━━━━━━━\u001b[0m\u001b[37m\u001b[0m \u001b[1m130s\u001b[0m 510ms/step - accuracy: 0.8349 - loss: 0.3674 - val_accuracy: 0.7760 - val_loss: 0.5279\n",
      "Epoch 13/100\n",
      "\u001b[1m250/250\u001b[0m \u001b[32m━━━━━━━━━━━━━━━━━━━━\u001b[0m\u001b[37m\u001b[0m \u001b[1m130s\u001b[0m 512ms/step - accuracy: 0.8467 - loss: 0.3524 - val_accuracy: 0.7725 - val_loss: 0.5495\n",
      "Epoch 14/100\n",
      "\u001b[1m250/250\u001b[0m \u001b[32m━━━━━━━━━━━━━━━━━━━━\u001b[0m\u001b[37m\u001b[0m \u001b[1m129s\u001b[0m 506ms/step - accuracy: 0.8579 - loss: 0.3355 - val_accuracy: 0.7740 - val_loss: 0.5368\n",
      "Epoch 15/100\n",
      "\u001b[1m250/250\u001b[0m \u001b[32m━━━━━━━━━━━━━━━━━━━━\u001b[0m\u001b[37m\u001b[0m \u001b[1m130s\u001b[0m 509ms/step - accuracy: 0.8735 - loss: 0.3100 - val_accuracy: 0.7725 - val_loss: 0.5427\n",
      "Epoch 16/100\n",
      "\u001b[1m250/250\u001b[0m \u001b[32m━━━━━━━━━━━━━━━━━━━━\u001b[0m\u001b[37m\u001b[0m \u001b[1m130s\u001b[0m 513ms/step - accuracy: 0.8763 - loss: 0.2905 - val_accuracy: 0.7815 - val_loss: 0.5536\n",
      "Epoch 17/100\n",
      "\u001b[1m250/250\u001b[0m \u001b[32m━━━━━━━━━━━━━━━━━━━━\u001b[0m\u001b[37m\u001b[0m \u001b[1m130s\u001b[0m 515ms/step - accuracy: 0.8955 - loss: 0.2623 - val_accuracy: 0.7795 - val_loss: 0.5460\n",
      "Epoch 18/100\n",
      "\u001b[1m250/250\u001b[0m \u001b[32m━━━━━━━━━━━━━━━━━━━━\u001b[0m\u001b[37m\u001b[0m \u001b[1m128s\u001b[0m 504ms/step - accuracy: 0.9005 - loss: 0.2428 - val_accuracy: 0.7810 - val_loss: 0.5938\n",
      "Epoch 19/100\n",
      "\u001b[1m250/250\u001b[0m \u001b[32m━━━━━━━━━━━━━━━━━━━━\u001b[0m\u001b[37m\u001b[0m \u001b[1m128s\u001b[0m 507ms/step - accuracy: 0.9087 - loss: 0.2309 - val_accuracy: 0.7895 - val_loss: 0.6341\n",
      "Epoch 20/100\n",
      "\u001b[1m250/250\u001b[0m \u001b[32m━━━━━━━━━━━━━━━━━━━━\u001b[0m\u001b[37m\u001b[0m \u001b[1m129s\u001b[0m 510ms/step - accuracy: 0.9146 - loss: 0.2203 - val_accuracy: 0.7770 - val_loss: 0.6221\n",
      "Epoch 21/100\n",
      "\u001b[1m250/250\u001b[0m \u001b[32m━━━━━━━━━━━━━━━━━━━━\u001b[0m\u001b[37m\u001b[0m \u001b[1m130s\u001b[0m 511ms/step - accuracy: 0.9155 - loss: 0.2149 - val_accuracy: 0.7840 - val_loss: 0.6218\n",
      "Epoch 22/100\n",
      "\u001b[1m250/250\u001b[0m \u001b[32m━━━━━━━━━━━━━━━━━━━━\u001b[0m\u001b[37m\u001b[0m \u001b[1m132s\u001b[0m 519ms/step - accuracy: 0.9250 - loss: 0.1911 - val_accuracy: 0.7870 - val_loss: 0.6685\n",
      "Epoch 23/100\n",
      "\u001b[1m250/250\u001b[0m \u001b[32m━━━━━━━━━━━━━━━━━━━━\u001b[0m\u001b[37m\u001b[0m \u001b[1m133s\u001b[0m 525ms/step - accuracy: 0.9252 - loss: 0.1968 - val_accuracy: 0.7920 - val_loss: 0.6598\n",
      "Epoch 24/100\n",
      "\u001b[1m250/250\u001b[0m \u001b[32m━━━━━━━━━━━━━━━━━━━━\u001b[0m\u001b[37m\u001b[0m \u001b[1m140s\u001b[0m 553ms/step - accuracy: 0.9297 - loss: 0.1787 - val_accuracy: 0.7920 - val_loss: 0.6742\n",
      "Epoch 25/100\n",
      "\u001b[1m250/250\u001b[0m \u001b[32m━━━━━━━━━━━━━━━━━━━━\u001b[0m\u001b[37m\u001b[0m \u001b[1m157s\u001b[0m 616ms/step - accuracy: 0.9465 - loss: 0.1407 - val_accuracy: 0.7940 - val_loss: 0.6695\n",
      "Epoch 26/100\n",
      "\u001b[1m250/250\u001b[0m \u001b[32m━━━━━━━━━━━━━━━━━━━━\u001b[0m\u001b[37m\u001b[0m \u001b[1m151s\u001b[0m 595ms/step - accuracy: 0.9423 - loss: 0.1468 - val_accuracy: 0.7875 - val_loss: 0.7332\n",
      "Epoch 27/100\n",
      "\u001b[1m250/250\u001b[0m \u001b[32m━━━━━━━━━━━━━━━━━━━━\u001b[0m\u001b[37m\u001b[0m \u001b[1m152s\u001b[0m 599ms/step - accuracy: 0.9484 - loss: 0.1352 - val_accuracy: 0.7895 - val_loss: 0.6865\n",
      "Epoch 28/100\n",
      "\u001b[1m250/250\u001b[0m \u001b[32m━━━━━━━━━━━━━━━━━━━━\u001b[0m\u001b[37m\u001b[0m \u001b[1m154s\u001b[0m 603ms/step - accuracy: 0.9541 - loss: 0.1296 - val_accuracy: 0.7895 - val_loss: 0.7006\n",
      "Epoch 29/100\n",
      "\u001b[1m250/250\u001b[0m \u001b[32m━━━━━━━━━━━━━━━━━━━━\u001b[0m\u001b[37m\u001b[0m \u001b[1m152s\u001b[0m 599ms/step - accuracy: 0.9522 - loss: 0.1193 - val_accuracy: 0.8055 - val_loss: 0.7834\n",
      "Epoch 30/100\n",
      "\u001b[1m250/250\u001b[0m \u001b[32m━━━━━━━━━━━━━━━━━━━━\u001b[0m\u001b[37m\u001b[0m \u001b[1m153s\u001b[0m 599ms/step - accuracy: 0.9552 - loss: 0.1218 - val_accuracy: 0.7895 - val_loss: 0.7609\n",
      "Epoch 31/100\n",
      "\u001b[1m250/250\u001b[0m \u001b[32m━━━━━━━━━━━━━━━━━━━━\u001b[0m\u001b[37m\u001b[0m \u001b[1m153s\u001b[0m 601ms/step - accuracy: 0.9599 - loss: 0.1069 - val_accuracy: 0.7870 - val_loss: 0.8210\n",
      "Epoch 32/100\n",
      "\u001b[1m250/250\u001b[0m \u001b[32m━━━━━━━━━━━━━━━━━━━━\u001b[0m\u001b[37m\u001b[0m \u001b[1m154s\u001b[0m 605ms/step - accuracy: 0.9635 - loss: 0.0981 - val_accuracy: 0.7935 - val_loss: 0.7893\n",
      "Epoch 33/100\n",
      "\u001b[1m250/250\u001b[0m \u001b[32m━━━━━━━━━━━━━━━━━━━━\u001b[0m\u001b[37m\u001b[0m \u001b[1m153s\u001b[0m 602ms/step - accuracy: 0.9652 - loss: 0.0965 - val_accuracy: 0.7875 - val_loss: 0.7987\n",
      "Epoch 34/100\n",
      "\u001b[1m250/250\u001b[0m \u001b[32m━━━━━━━━━━━━━━━━━━━━\u001b[0m\u001b[37m\u001b[0m \u001b[1m156s\u001b[0m 612ms/step - accuracy: 0.9650 - loss: 0.1001 - val_accuracy: 0.7900 - val_loss: 0.8258\n",
      "Epoch 35/100\n",
      "\u001b[1m250/250\u001b[0m \u001b[32m━━━━━━━━━━━━━━━━━━━━\u001b[0m\u001b[37m\u001b[0m \u001b[1m153s\u001b[0m 602ms/step - accuracy: 0.9657 - loss: 0.0928 - val_accuracy: 0.7790 - val_loss: 0.8735\n",
      "Epoch 36/100\n",
      "\u001b[1m250/250\u001b[0m \u001b[32m━━━━━━━━━━━━━━━━━━━━\u001b[0m\u001b[37m\u001b[0m \u001b[1m153s\u001b[0m 603ms/step - accuracy: 0.9648 - loss: 0.0920 - val_accuracy: 0.7875 - val_loss: 0.7914\n",
      "Epoch 37/100\n",
      "\u001b[1m250/250\u001b[0m \u001b[32m━━━━━━━━━━━━━━━━━━━━\u001b[0m\u001b[37m\u001b[0m \u001b[1m145s\u001b[0m 572ms/step - accuracy: 0.9726 - loss: 0.0736 - val_accuracy: 0.7865 - val_loss: 0.8988\n",
      "Epoch 38/100\n",
      "\u001b[1m250/250\u001b[0m \u001b[32m━━━━━━━━━━━━━━━━━━━━\u001b[0m\u001b[37m\u001b[0m \u001b[1m130s\u001b[0m 513ms/step - accuracy: 0.9632 - loss: 0.1008 - val_accuracy: 0.7945 - val_loss: 0.8227\n",
      "Epoch 39/100\n",
      "\u001b[1m250/250\u001b[0m \u001b[32m━━━━━━━━━━━━━━━━━━━━\u001b[0m\u001b[37m\u001b[0m \u001b[1m135s\u001b[0m 534ms/step - accuracy: 0.9733 - loss: 0.0734 - val_accuracy: 0.7890 - val_loss: 0.9236\n",
      "Epoch 40/100\n",
      "\u001b[1m250/250\u001b[0m \u001b[32m━━━━━━━━━━━━━━━━━━━━\u001b[0m\u001b[37m\u001b[0m \u001b[1m152s\u001b[0m 600ms/step - accuracy: 0.9675 - loss: 0.0907 - val_accuracy: 0.7960 - val_loss: 0.9239\n",
      "Epoch 41/100\n",
      "\u001b[1m250/250\u001b[0m \u001b[32m━━━━━━━━━━━━━━━━━━━━\u001b[0m\u001b[37m\u001b[0m \u001b[1m153s\u001b[0m 603ms/step - accuracy: 0.9768 - loss: 0.0688 - val_accuracy: 0.7860 - val_loss: 0.9261\n",
      "Epoch 42/100\n",
      "\u001b[1m250/250\u001b[0m \u001b[32m━━━━━━━━━━━━━━━━━━━━\u001b[0m\u001b[37m\u001b[0m \u001b[1m150s\u001b[0m 589ms/step - accuracy: 0.9794 - loss: 0.0634 - val_accuracy: 0.7885 - val_loss: 0.9575\n",
      "Epoch 43/100\n",
      "\u001b[1m250/250\u001b[0m \u001b[32m━━━━━━━━━━━━━━━━━━━━\u001b[0m\u001b[37m\u001b[0m \u001b[1m155s\u001b[0m 608ms/step - accuracy: 0.9739 - loss: 0.0712 - val_accuracy: 0.7855 - val_loss: 0.9347\n",
      "Epoch 44/100\n",
      "\u001b[1m250/250\u001b[0m \u001b[32m━━━━━━━━━━━━━━━━━━━━\u001b[0m\u001b[37m\u001b[0m \u001b[1m152s\u001b[0m 597ms/step - accuracy: 0.9765 - loss: 0.0652 - val_accuracy: 0.7925 - val_loss: 0.9562\n",
      "Epoch 45/100\n",
      "\u001b[1m250/250\u001b[0m \u001b[32m━━━━━━━━━━━━━━━━━━━━\u001b[0m\u001b[37m\u001b[0m \u001b[1m148s\u001b[0m 580ms/step - accuracy: 0.9796 - loss: 0.0596 - val_accuracy: 0.7775 - val_loss: 1.0404\n",
      "Epoch 46/100\n",
      "\u001b[1m250/250\u001b[0m \u001b[32m━━━━━━━━━━━━━━━━━━━━\u001b[0m\u001b[37m\u001b[0m \u001b[1m151s\u001b[0m 595ms/step - accuracy: 0.9748 - loss: 0.0693 - val_accuracy: 0.7910 - val_loss: 1.0250\n",
      "Epoch 47/100\n",
      "\u001b[1m250/250\u001b[0m \u001b[32m━━━━━━━━━━━━━━━━━━━━\u001b[0m\u001b[37m\u001b[0m \u001b[1m157s\u001b[0m 615ms/step - accuracy: 0.9796 - loss: 0.0659 - val_accuracy: 0.7885 - val_loss: 1.0160\n",
      "Epoch 48/100\n",
      "\u001b[1m250/250\u001b[0m \u001b[32m━━━━━━━━━━━━━━━━━━━━\u001b[0m\u001b[37m\u001b[0m \u001b[1m159s\u001b[0m 624ms/step - accuracy: 0.9815 - loss: 0.0581 - val_accuracy: 0.7930 - val_loss: 1.0341\n",
      "Epoch 49/100\n",
      "\u001b[1m250/250\u001b[0m \u001b[32m━━━━━━━━━━━━━━━━━━━━\u001b[0m\u001b[37m\u001b[0m \u001b[1m159s\u001b[0m 624ms/step - accuracy: 0.9753 - loss: 0.0640 - val_accuracy: 0.7930 - val_loss: 1.0003\n"
     ]
    },
    {
     "name": "stdout",
     "output_type": "stream",
     "text": [
      "Epoch 50/100\n",
      "\u001b[1m250/250\u001b[0m \u001b[32m━━━━━━━━━━━━━━━━━━━━\u001b[0m\u001b[37m\u001b[0m \u001b[1m152s\u001b[0m 598ms/step - accuracy: 0.9818 - loss: 0.0560 - val_accuracy: 0.7885 - val_loss: 1.0186\n",
      "Epoch 51/100\n",
      "\u001b[1m250/250\u001b[0m \u001b[32m━━━━━━━━━━━━━━━━━━━━\u001b[0m\u001b[37m\u001b[0m \u001b[1m147s\u001b[0m 575ms/step - accuracy: 0.9744 - loss: 0.0740 - val_accuracy: 0.7915 - val_loss: 1.0277\n",
      "Epoch 52/100\n",
      "\u001b[1m250/250\u001b[0m \u001b[32m━━━━━━━━━━━━━━━━━━━━\u001b[0m\u001b[37m\u001b[0m \u001b[1m146s\u001b[0m 576ms/step - accuracy: 0.9790 - loss: 0.0518 - val_accuracy: 0.7950 - val_loss: 1.0416\n",
      "Epoch 53/100\n",
      "\u001b[1m250/250\u001b[0m \u001b[32m━━━━━━━━━━━━━━━━━━━━\u001b[0m\u001b[37m\u001b[0m \u001b[1m149s\u001b[0m 587ms/step - accuracy: 0.9800 - loss: 0.0516 - val_accuracy: 0.8005 - val_loss: 1.0422\n",
      "Epoch 54/100\n",
      "\u001b[1m250/250\u001b[0m \u001b[32m━━━━━━━━━━━━━━━━━━━━\u001b[0m\u001b[37m\u001b[0m \u001b[1m148s\u001b[0m 582ms/step - accuracy: 0.9776 - loss: 0.0611 - val_accuracy: 0.7990 - val_loss: 1.0757\n",
      "Epoch 55/100\n",
      "\u001b[1m250/250\u001b[0m \u001b[32m━━━━━━━━━━━━━━━━━━━━\u001b[0m\u001b[37m\u001b[0m \u001b[1m139s\u001b[0m 549ms/step - accuracy: 0.9871 - loss: 0.0415 - val_accuracy: 0.7910 - val_loss: 1.1117\n",
      "Epoch 56/100\n",
      "\u001b[1m250/250\u001b[0m \u001b[32m━━━━━━━━━━━━━━━━━━━━\u001b[0m\u001b[37m\u001b[0m \u001b[1m138s\u001b[0m 544ms/step - accuracy: 0.9826 - loss: 0.0512 - val_accuracy: 0.7930 - val_loss: 1.0819\n",
      "Epoch 57/100\n",
      "\u001b[1m250/250\u001b[0m \u001b[32m━━━━━━━━━━━━━━━━━━━━\u001b[0m\u001b[37m\u001b[0m \u001b[1m156s\u001b[0m 615ms/step - accuracy: 0.9807 - loss: 0.0518 - val_accuracy: 0.7900 - val_loss: 1.1016\n",
      "Epoch 58/100\n",
      "\u001b[1m250/250\u001b[0m \u001b[32m━━━━━━━━━━━━━━━━━━━━\u001b[0m\u001b[37m\u001b[0m \u001b[1m153s\u001b[0m 604ms/step - accuracy: 0.9835 - loss: 0.0490 - val_accuracy: 0.7895 - val_loss: 1.0641\n",
      "Epoch 59/100\n",
      "\u001b[1m250/250\u001b[0m \u001b[32m━━━━━━━━━━━━━━━━━━━━\u001b[0m\u001b[37m\u001b[0m \u001b[1m157s\u001b[0m 615ms/step - accuracy: 0.9844 - loss: 0.0461 - val_accuracy: 0.7930 - val_loss: 1.0389\n",
      "Epoch 60/100\n",
      "\u001b[1m250/250\u001b[0m \u001b[32m━━━━━━━━━━━━━━━━━━━━\u001b[0m\u001b[37m\u001b[0m \u001b[1m141s\u001b[0m 554ms/step - accuracy: 0.9854 - loss: 0.0397 - val_accuracy: 0.7895 - val_loss: 1.0870\n",
      "Epoch 61/100\n",
      "\u001b[1m250/250\u001b[0m \u001b[32m━━━━━━━━━━━━━━━━━━━━\u001b[0m\u001b[37m\u001b[0m \u001b[1m144s\u001b[0m 566ms/step - accuracy: 0.9847 - loss: 0.0422 - val_accuracy: 0.8015 - val_loss: 1.1331\n",
      "Epoch 62/100\n",
      "\u001b[1m250/250\u001b[0m \u001b[32m━━━━━━━━━━━━━━━━━━━━\u001b[0m\u001b[37m\u001b[0m \u001b[1m165s\u001b[0m 652ms/step - accuracy: 0.9864 - loss: 0.0408 - val_accuracy: 0.7980 - val_loss: 1.1183\n",
      "Epoch 63/100\n",
      "\u001b[1m250/250\u001b[0m \u001b[32m━━━━━━━━━━━━━━━━━━━━\u001b[0m\u001b[37m\u001b[0m \u001b[1m148s\u001b[0m 579ms/step - accuracy: 0.9833 - loss: 0.0449 - val_accuracy: 0.7940 - val_loss: 1.1443\n",
      "Epoch 64/100\n",
      "\u001b[1m250/250\u001b[0m \u001b[32m━━━━━━━━━━━━━━━━━━━━\u001b[0m\u001b[37m\u001b[0m \u001b[1m142s\u001b[0m 561ms/step - accuracy: 0.9791 - loss: 0.0636 - val_accuracy: 0.7805 - val_loss: 1.2418\n",
      "Epoch 65/100\n",
      "\u001b[1m250/250\u001b[0m \u001b[32m━━━━━━━━━━━━━━━━━━━━\u001b[0m\u001b[37m\u001b[0m \u001b[1m143s\u001b[0m 563ms/step - accuracy: 0.9847 - loss: 0.0479 - val_accuracy: 0.7900 - val_loss: 1.1327\n",
      "Epoch 66/100\n",
      "\u001b[1m250/250\u001b[0m \u001b[32m━━━━━━━━━━━━━━━━━━━━\u001b[0m\u001b[37m\u001b[0m \u001b[1m142s\u001b[0m 557ms/step - accuracy: 0.9866 - loss: 0.0381 - val_accuracy: 0.7925 - val_loss: 1.1572\n",
      "Epoch 67/100\n",
      "\u001b[1m250/250\u001b[0m \u001b[32m━━━━━━━━━━━━━━━━━━━━\u001b[0m\u001b[37m\u001b[0m \u001b[1m156s\u001b[0m 614ms/step - accuracy: 0.9827 - loss: 0.0522 - val_accuracy: 0.8005 - val_loss: 1.1019\n",
      "Epoch 68/100\n",
      "\u001b[1m250/250\u001b[0m \u001b[32m━━━━━━━━━━━━━━━━━━━━\u001b[0m\u001b[37m\u001b[0m \u001b[1m148s\u001b[0m 581ms/step - accuracy: 0.9855 - loss: 0.0429 - val_accuracy: 0.7990 - val_loss: 1.1716\n",
      "Epoch 69/100\n",
      "\u001b[1m250/250\u001b[0m \u001b[32m━━━━━━━━━━━━━━━━━━━━\u001b[0m\u001b[37m\u001b[0m \u001b[1m149s\u001b[0m 588ms/step - accuracy: 0.9877 - loss: 0.0357 - val_accuracy: 0.8055 - val_loss: 1.1464\n",
      "Epoch 70/100\n",
      "\u001b[1m250/250\u001b[0m \u001b[32m━━━━━━━━━━━━━━━━━━━━\u001b[0m\u001b[37m\u001b[0m \u001b[1m148s\u001b[0m 584ms/step - accuracy: 0.9853 - loss: 0.0386 - val_accuracy: 0.7915 - val_loss: 1.1704\n",
      "Epoch 71/100\n",
      "\u001b[1m250/250\u001b[0m \u001b[32m━━━━━━━━━━━━━━━━━━━━\u001b[0m\u001b[37m\u001b[0m \u001b[1m145s\u001b[0m 570ms/step - accuracy: 0.9851 - loss: 0.0425 - val_accuracy: 0.7935 - val_loss: 1.2674\n",
      "Epoch 72/100\n",
      "\u001b[1m250/250\u001b[0m \u001b[32m━━━━━━━━━━━━━━━━━━━━\u001b[0m\u001b[37m\u001b[0m \u001b[1m141s\u001b[0m 555ms/step - accuracy: 0.9870 - loss: 0.0420 - val_accuracy: 0.7995 - val_loss: 1.1980\n",
      "Epoch 73/100\n",
      "\u001b[1m250/250\u001b[0m \u001b[32m━━━━━━━━━━━━━━━━━━━━\u001b[0m\u001b[37m\u001b[0m \u001b[1m142s\u001b[0m 561ms/step - accuracy: 0.9894 - loss: 0.0313 - val_accuracy: 0.7980 - val_loss: 1.1974\n",
      "Epoch 74/100\n",
      "\u001b[1m250/250\u001b[0m \u001b[32m━━━━━━━━━━━━━━━━━━━━\u001b[0m\u001b[37m\u001b[0m \u001b[1m141s\u001b[0m 555ms/step - accuracy: 0.9889 - loss: 0.0317 - val_accuracy: 0.7930 - val_loss: 1.2400\n",
      "Epoch 75/100\n",
      "\u001b[1m250/250\u001b[0m \u001b[32m━━━━━━━━━━━━━━━━━━━━\u001b[0m\u001b[37m\u001b[0m \u001b[1m144s\u001b[0m 565ms/step - accuracy: 0.9877 - loss: 0.0362 - val_accuracy: 0.7960 - val_loss: 1.3134\n",
      "Epoch 76/100\n",
      "\u001b[1m250/250\u001b[0m \u001b[32m━━━━━━━━━━━━━━━━━━━━\u001b[0m\u001b[37m\u001b[0m \u001b[1m144s\u001b[0m 566ms/step - accuracy: 0.9891 - loss: 0.0347 - val_accuracy: 0.7985 - val_loss: 1.2438\n",
      "Epoch 77/100\n",
      "\u001b[1m250/250\u001b[0m \u001b[32m━━━━━━━━━━━━━━━━━━━━\u001b[0m\u001b[37m\u001b[0m \u001b[1m143s\u001b[0m 564ms/step - accuracy: 0.9879 - loss: 0.0370 - val_accuracy: 0.7955 - val_loss: 1.2506\n",
      "Epoch 78/100\n",
      "\u001b[1m250/250\u001b[0m \u001b[32m━━━━━━━━━━━━━━━━━━━━\u001b[0m\u001b[37m\u001b[0m \u001b[1m144s\u001b[0m 567ms/step - accuracy: 0.9844 - loss: 0.0427 - val_accuracy: 0.8070 - val_loss: 1.2302\n",
      "Epoch 79/100\n",
      "\u001b[1m250/250\u001b[0m \u001b[32m━━━━━━━━━━━━━━━━━━━━\u001b[0m\u001b[37m\u001b[0m \u001b[1m144s\u001b[0m 565ms/step - accuracy: 0.9895 - loss: 0.0302 - val_accuracy: 0.7945 - val_loss: 1.2574\n",
      "Epoch 80/100\n",
      "\u001b[1m250/250\u001b[0m \u001b[32m━━━━━━━━━━━━━━━━━━━━\u001b[0m\u001b[37m\u001b[0m \u001b[1m146s\u001b[0m 579ms/step - accuracy: 0.9885 - loss: 0.0333 - val_accuracy: 0.8040 - val_loss: 1.3100\n",
      "Epoch 81/100\n",
      "\u001b[1m250/250\u001b[0m \u001b[32m━━━━━━━━━━━━━━━━━━━━\u001b[0m\u001b[37m\u001b[0m \u001b[1m135s\u001b[0m 532ms/step - accuracy: 0.9863 - loss: 0.0383 - val_accuracy: 0.7890 - val_loss: 1.3765\n",
      "Epoch 82/100\n",
      "\u001b[1m250/250\u001b[0m \u001b[32m━━━━━━━━━━━━━━━━━━━━\u001b[0m\u001b[37m\u001b[0m \u001b[1m138s\u001b[0m 541ms/step - accuracy: 0.9874 - loss: 0.0365 - val_accuracy: 0.7995 - val_loss: 1.2708\n",
      "Epoch 83/100\n",
      "\u001b[1m250/250\u001b[0m \u001b[32m━━━━━━━━━━━━━━━━━━━━\u001b[0m\u001b[37m\u001b[0m \u001b[1m139s\u001b[0m 545ms/step - accuracy: 0.9912 - loss: 0.0272 - val_accuracy: 0.8010 - val_loss: 1.2998\n",
      "Epoch 84/100\n",
      "\u001b[1m250/250\u001b[0m \u001b[32m━━━━━━━━━━━━━━━━━━━━\u001b[0m\u001b[37m\u001b[0m \u001b[1m129s\u001b[0m 506ms/step - accuracy: 0.9914 - loss: 0.0275 - val_accuracy: 0.7825 - val_loss: 1.2781\n",
      "Epoch 85/100\n",
      "\u001b[1m250/250\u001b[0m \u001b[32m━━━━━━━━━━━━━━━━━━━━\u001b[0m\u001b[37m\u001b[0m \u001b[1m128s\u001b[0m 503ms/step - accuracy: 0.9894 - loss: 0.0351 - val_accuracy: 0.7930 - val_loss: 1.2319\n",
      "Epoch 86/100\n",
      "\u001b[1m250/250\u001b[0m \u001b[32m━━━━━━━━━━━━━━━━━━━━\u001b[0m\u001b[37m\u001b[0m \u001b[1m128s\u001b[0m 503ms/step - accuracy: 0.9880 - loss: 0.0347 - val_accuracy: 0.8040 - val_loss: 1.2382\n",
      "Epoch 87/100\n",
      "\u001b[1m250/250\u001b[0m \u001b[32m━━━━━━━━━━━━━━━━━━━━\u001b[0m\u001b[37m\u001b[0m \u001b[1m127s\u001b[0m 502ms/step - accuracy: 0.9903 - loss: 0.0354 - val_accuracy: 0.7890 - val_loss: 1.3147\n",
      "Epoch 88/100\n",
      "\u001b[1m250/250\u001b[0m \u001b[32m━━━━━━━━━━━━━━━━━━━━\u001b[0m\u001b[37m\u001b[0m \u001b[1m127s\u001b[0m 501ms/step - accuracy: 0.9894 - loss: 0.0307 - val_accuracy: 0.7990 - val_loss: 1.2995\n",
      "Epoch 89/100\n",
      "\u001b[1m250/250\u001b[0m \u001b[32m━━━━━━━━━━━━━━━━━━━━\u001b[0m\u001b[37m\u001b[0m \u001b[1m127s\u001b[0m 502ms/step - accuracy: 0.9900 - loss: 0.0303 - val_accuracy: 0.7870 - val_loss: 1.2657\n",
      "Epoch 90/100\n",
      "\u001b[1m250/250\u001b[0m \u001b[32m━━━━━━━━━━━━━━━━━━━━\u001b[0m\u001b[37m\u001b[0m \u001b[1m128s\u001b[0m 504ms/step - accuracy: 0.9900 - loss: 0.0298 - val_accuracy: 0.7890 - val_loss: 1.2423\n",
      "Epoch 91/100\n",
      "\u001b[1m250/250\u001b[0m \u001b[32m━━━━━━━━━━━━━━━━━━━━\u001b[0m\u001b[37m\u001b[0m \u001b[1m128s\u001b[0m 506ms/step - accuracy: 0.9915 - loss: 0.0265 - val_accuracy: 0.7985 - val_loss: 1.3477\n",
      "Epoch 92/100\n",
      "\u001b[1m250/250\u001b[0m \u001b[32m━━━━━━━━━━━━━━━━━━━━\u001b[0m\u001b[37m\u001b[0m \u001b[1m129s\u001b[0m 509ms/step - accuracy: 0.9890 - loss: 0.0395 - val_accuracy: 0.7935 - val_loss: 1.3074\n",
      "Epoch 93/100\n",
      "\u001b[1m250/250\u001b[0m \u001b[32m━━━━━━━━━━━━━━━━━━━━\u001b[0m\u001b[37m\u001b[0m \u001b[1m127s\u001b[0m 502ms/step - accuracy: 0.9907 - loss: 0.0283 - val_accuracy: 0.8000 - val_loss: 1.3163\n",
      "Epoch 94/100\n",
      "\u001b[1m250/250\u001b[0m \u001b[32m━━━━━━━━━━━━━━━━━━━━\u001b[0m\u001b[37m\u001b[0m \u001b[1m127s\u001b[0m 502ms/step - accuracy: 0.9868 - loss: 0.0363 - val_accuracy: 0.8005 - val_loss: 1.3191\n",
      "Epoch 95/100\n",
      "\u001b[1m250/250\u001b[0m \u001b[32m━━━━━━━━━━━━━━━━━━━━\u001b[0m\u001b[37m\u001b[0m \u001b[1m128s\u001b[0m 504ms/step - accuracy: 0.9925 - loss: 0.0223 - val_accuracy: 0.7950 - val_loss: 1.3011\n",
      "Epoch 96/100\n",
      "\u001b[1m250/250\u001b[0m \u001b[32m━━━━━━━━━━━━━━━━━━━━\u001b[0m\u001b[37m\u001b[0m \u001b[1m129s\u001b[0m 507ms/step - accuracy: 0.9909 - loss: 0.0275 - val_accuracy: 0.7960 - val_loss: 1.3166\n",
      "Epoch 97/100\n",
      "\u001b[1m250/250\u001b[0m \u001b[32m━━━━━━━━━━━━━━━━━━━━\u001b[0m\u001b[37m\u001b[0m \u001b[1m128s\u001b[0m 507ms/step - accuracy: 0.9920 - loss: 0.0269 - val_accuracy: 0.8070 - val_loss: 1.3545\n",
      "Epoch 98/100\n",
      "\u001b[1m250/250\u001b[0m \u001b[32m━━━━━━━━━━━━━━━━━━━━\u001b[0m\u001b[37m\u001b[0m \u001b[1m131s\u001b[0m 518ms/step - accuracy: 0.9932 - loss: 0.0235 - val_accuracy: 0.8060 - val_loss: 1.3227\n"
     ]
    },
    {
     "name": "stdout",
     "output_type": "stream",
     "text": [
      "Epoch 99/100\n",
      "\u001b[1m250/250\u001b[0m \u001b[32m━━━━━━━━━━━━━━━━━━━━\u001b[0m\u001b[37m\u001b[0m \u001b[1m149s\u001b[0m 585ms/step - accuracy: 0.9925 - loss: 0.0244 - val_accuracy: 0.8030 - val_loss: 1.2594\n",
      "Epoch 100/100\n",
      "\u001b[1m250/250\u001b[0m \u001b[32m━━━━━━━━━━━━━━━━━━━━\u001b[0m\u001b[37m\u001b[0m \u001b[1m150s\u001b[0m 588ms/step - accuracy: 0.9916 - loss: 0.0215 - val_accuracy: 0.7885 - val_loss: 1.4584\n"
     ]
    },
    {
     "data": {
      "text/plain": [
       "<keras.src.callbacks.history.History at 0x1ca748f4130>"
      ]
     },
     "execution_count": 45,
     "metadata": {},
     "output_type": "execute_result"
    }
   ],
   "source": [
    "cnn.fit(x = train_generator, validation_data= test_generator, epochs= 100)"
   ]
  },
  {
   "cell_type": "markdown",
   "id": "b419cf4c",
   "metadata": {},
   "source": [
    "# Making Prediction"
   ]
  },
  {
   "cell_type": "code",
   "execution_count": 47,
   "id": "2bbc0031",
   "metadata": {},
   "outputs": [],
   "source": [
    "from tensorflow.keras.preprocessing import image"
   ]
  },
  {
   "cell_type": "code",
   "execution_count": 60,
   "id": "2f5ccbcc",
   "metadata": {},
   "outputs": [],
   "source": [
    "pred_dir = \"F:\\\\Machine Learning-A-Z-Codes-Datasets\\\\Machine Learning A-Z (Codes and Datasets)\\\\Part 8 - Deep Learning\\\\Section 40 - Convolutional Neural Networks (CNN)\\\\Python\\\\dataset\\\\dataset\\\\test_set\\\\Prediction\\\\\""
   ]
  },
  {
   "cell_type": "code",
   "execution_count": 62,
   "id": "40b9d724",
   "metadata": {},
   "outputs": [
    {
     "name": "stdout",
     "output_type": "stream",
     "text": [
      "\u001b[1m1/1\u001b[0m \u001b[32m━━━━━━━━━━━━━━━━━━━━\u001b[0m\u001b[37m\u001b[0m \u001b[1m0s\u001b[0m 33ms/step\n",
      "Dog\n"
     ]
    }
   ],
   "source": [
    "pred_image = image.load_img(pred_dir + 'dog.4014.jpg', target_size=Image_size)\n",
    "pred_image = image.img_to_array(pred_image)\n",
    "pred_image = np.expand_dims(pred_image, axis=0)\n",
    "\n",
    "train_generator.class_indices\n",
    "final_pred = cnn.predict(pred_image)\n",
    "\n",
    "if final_pred[0][0] == 1:\n",
    "    prediction = 'Dog'\n",
    "else:\n",
    "    prediction = 'Cat'\n",
    "    \n",
    "print(prediction)\n",
    "    "
   ]
  },
  {
   "cell_type": "code",
   "execution_count": null,
   "id": "cdcb8de8",
   "metadata": {},
   "outputs": [],
   "source": []
  }
 ],
 "metadata": {
  "kernelspec": {
   "display_name": "Python 3 (ipykernel)",
   "language": "python",
   "name": "python3"
  },
  "language_info": {
   "codemirror_mode": {
    "name": "ipython",
    "version": 3
   },
   "file_extension": ".py",
   "mimetype": "text/x-python",
   "name": "python",
   "nbconvert_exporter": "python",
   "pygments_lexer": "ipython3",
   "version": "3.9.12"
  }
 },
 "nbformat": 4,
 "nbformat_minor": 5
}
